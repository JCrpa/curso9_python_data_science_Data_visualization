{
 "cells": [
  {
   "cell_type": "markdown",
   "metadata": {
    "id": "3RgyMaan04TD"
   },
   "source": [
    "## Módulo 2 - Desafio: visualizando dados se vendas de diferentes lojas"
   ]
  },
  {
   "cell_type": "markdown",
   "metadata": {},
   "source": [
    "Você trabalha como Analista de Dados em uma empresa de varejo e recebeu a tarefa de criar uma figura com subplots que apresente a variação no número de vendas em quatro diferentes lojas ao longo de um ano. A gerência da empresa precisa visualizar de forma clara as tendências de vendas em cada loja, para que possam tomar decisões estratégicas sobre os estoques e ações de marketing. Para isso, você deve criar quatro subplots dispostos em duas linhas e duas colunas, onde cada subplot representa uma loja diferente. Nesse desafio, cada subplot deve apresentar um gráfico de linhas que mostre a variação do número de vendas ao longo dos meses do ano.\n",
    "\n",
    "Agora, chegou a hora de mostrar suas habilidades em análise de dados e visualização! Para criar o DataFrame com o número de vendas das lojas e criar a figura, utilize as informações abaixo.\n",
    "\n",
    "Dica: Para facilitar a criação dos subplots, você pode definir a coluna \"Lojas\" como índice do DataFrame e utilizar a propriedade loc da biblioteca Pandas para plotar cada uma das lojas.\n",
    "\n",
    "Não se esqueça de adicionar um título geral à figura, títulos aos subplots e rótulos aos eixos. Além disso, se atente ao tamanho da figura e ao espaçamento entre os subplots!"
   ]
  },
  {
   "cell_type": "code",
   "execution_count": 6,
   "metadata": {},
   "outputs": [],
   "source": [
    "import pandas as pd\n",
    "import matplotlib.pyplot as plt"
   ]
  },
  {
   "cell_type": "code",
   "execution_count": 1,
   "metadata": {
    "id": "UN77EfQ2d36Y"
   },
   "outputs": [],
   "source": [
    "lojas = ['A', 'B', 'C', 'D']\n",
    "\n",
    "vendas_2022 = {'Jan': [100, 80, 150, 50],\n",
    "    'Fev': [120, 90, 170, 60],\n",
    "    'Mar': [150, 100, 200, 80],\n",
    "    'Abr': [180, 110, 230, 90],\n",
    "    'Mai': [220, 190, 350, 200],\n",
    "    'Jun': [230, 150, 280, 120],\n",
    "    'Jul': [250, 170, 300, 140],\n",
    "    'Ago': [260, 180, 310, 150],\n",
    "    'Set': [240, 160, 290, 130],\n",
    "    'Out': [220, 140, 270, 110],\n",
    "    'Nov': [400, 220, 350, 190],\n",
    "    'Dez': [300, 350, 400, 250]\n",
    "}"
   ]
  },
  {
   "cell_type": "code",
   "execution_count": 29,
   "metadata": {},
   "outputs": [
    {
     "data": {
      "application/vnd.microsoft.datawrangler.viewer.v0+json": {
       "columns": [
        {
         "name": "Lojas",
         "rawType": "object",
         "type": "string"
        },
        {
         "name": "Jan",
         "rawType": "int64",
         "type": "integer"
        },
        {
         "name": "Fev",
         "rawType": "int64",
         "type": "integer"
        },
        {
         "name": "Mar",
         "rawType": "int64",
         "type": "integer"
        },
        {
         "name": "Abr",
         "rawType": "int64",
         "type": "integer"
        },
        {
         "name": "Mai",
         "rawType": "int64",
         "type": "integer"
        },
        {
         "name": "Jun",
         "rawType": "int64",
         "type": "integer"
        },
        {
         "name": "Jul",
         "rawType": "int64",
         "type": "integer"
        },
        {
         "name": "Ago",
         "rawType": "int64",
         "type": "integer"
        },
        {
         "name": "Set",
         "rawType": "int64",
         "type": "integer"
        },
        {
         "name": "Out",
         "rawType": "int64",
         "type": "integer"
        },
        {
         "name": "Nov",
         "rawType": "int64",
         "type": "integer"
        },
        {
         "name": "Dez",
         "rawType": "int64",
         "type": "integer"
        }
       ],
       "ref": "07851de8-0e3d-4daf-87f2-1de771cdff04",
       "rows": [
        [
         "A",
         "100",
         "120",
         "150",
         "180",
         "220",
         "230",
         "250",
         "260",
         "240",
         "220",
         "400",
         "300"
        ],
        [
         "B",
         "80",
         "90",
         "100",
         "110",
         "190",
         "150",
         "170",
         "180",
         "160",
         "140",
         "220",
         "350"
        ],
        [
         "C",
         "150",
         "170",
         "200",
         "230",
         "350",
         "280",
         "300",
         "310",
         "290",
         "270",
         "350",
         "400"
        ],
        [
         "D",
         "50",
         "60",
         "80",
         "90",
         "200",
         "120",
         "140",
         "150",
         "130",
         "110",
         "190",
         "250"
        ]
       ],
       "shape": {
        "columns": 12,
        "rows": 4
       }
      },
      "text/html": [
       "<div>\n",
       "<style scoped>\n",
       "    .dataframe tbody tr th:only-of-type {\n",
       "        vertical-align: middle;\n",
       "    }\n",
       "\n",
       "    .dataframe tbody tr th {\n",
       "        vertical-align: top;\n",
       "    }\n",
       "\n",
       "    .dataframe thead th {\n",
       "        text-align: right;\n",
       "    }\n",
       "</style>\n",
       "<table border=\"1\" class=\"dataframe\">\n",
       "  <thead>\n",
       "    <tr style=\"text-align: right;\">\n",
       "      <th></th>\n",
       "      <th>Jan</th>\n",
       "      <th>Fev</th>\n",
       "      <th>Mar</th>\n",
       "      <th>Abr</th>\n",
       "      <th>Mai</th>\n",
       "      <th>Jun</th>\n",
       "      <th>Jul</th>\n",
       "      <th>Ago</th>\n",
       "      <th>Set</th>\n",
       "      <th>Out</th>\n",
       "      <th>Nov</th>\n",
       "      <th>Dez</th>\n",
       "    </tr>\n",
       "    <tr>\n",
       "      <th>Lojas</th>\n",
       "      <th></th>\n",
       "      <th></th>\n",
       "      <th></th>\n",
       "      <th></th>\n",
       "      <th></th>\n",
       "      <th></th>\n",
       "      <th></th>\n",
       "      <th></th>\n",
       "      <th></th>\n",
       "      <th></th>\n",
       "      <th></th>\n",
       "      <th></th>\n",
       "    </tr>\n",
       "  </thead>\n",
       "  <tbody>\n",
       "    <tr>\n",
       "      <th>A</th>\n",
       "      <td>100</td>\n",
       "      <td>120</td>\n",
       "      <td>150</td>\n",
       "      <td>180</td>\n",
       "      <td>220</td>\n",
       "      <td>230</td>\n",
       "      <td>250</td>\n",
       "      <td>260</td>\n",
       "      <td>240</td>\n",
       "      <td>220</td>\n",
       "      <td>400</td>\n",
       "      <td>300</td>\n",
       "    </tr>\n",
       "    <tr>\n",
       "      <th>B</th>\n",
       "      <td>80</td>\n",
       "      <td>90</td>\n",
       "      <td>100</td>\n",
       "      <td>110</td>\n",
       "      <td>190</td>\n",
       "      <td>150</td>\n",
       "      <td>170</td>\n",
       "      <td>180</td>\n",
       "      <td>160</td>\n",
       "      <td>140</td>\n",
       "      <td>220</td>\n",
       "      <td>350</td>\n",
       "    </tr>\n",
       "    <tr>\n",
       "      <th>C</th>\n",
       "      <td>150</td>\n",
       "      <td>170</td>\n",
       "      <td>200</td>\n",
       "      <td>230</td>\n",
       "      <td>350</td>\n",
       "      <td>280</td>\n",
       "      <td>300</td>\n",
       "      <td>310</td>\n",
       "      <td>290</td>\n",
       "      <td>270</td>\n",
       "      <td>350</td>\n",
       "      <td>400</td>\n",
       "    </tr>\n",
       "    <tr>\n",
       "      <th>D</th>\n",
       "      <td>50</td>\n",
       "      <td>60</td>\n",
       "      <td>80</td>\n",
       "      <td>90</td>\n",
       "      <td>200</td>\n",
       "      <td>120</td>\n",
       "      <td>140</td>\n",
       "      <td>150</td>\n",
       "      <td>130</td>\n",
       "      <td>110</td>\n",
       "      <td>190</td>\n",
       "      <td>250</td>\n",
       "    </tr>\n",
       "  </tbody>\n",
       "</table>\n",
       "</div>"
      ],
      "text/plain": [
       "       Jan  Fev  Mar  Abr  Mai  Jun  Jul  Ago  Set  Out  Nov  Dez\n",
       "Lojas                                                            \n",
       "A      100  120  150  180  220  230  250  260  240  220  400  300\n",
       "B       80   90  100  110  190  150  170  180  160  140  220  350\n",
       "C      150  170  200  230  350  280  300  310  290  270  350  400\n",
       "D       50   60   80   90  200  120  140  150  130  110  190  250"
      ]
     },
     "execution_count": 29,
     "metadata": {},
     "output_type": "execute_result"
    }
   ],
   "source": [
    "df_lojas = pd.DataFrame(lojas)\n",
    "df_vendas = pd.DataFrame(vendas_2022)\n",
    "df_vendas.index = df_lojas[0]\n",
    "df_vendas.index.name = 'Lojas'\n",
    "df_vendas"
   ]
  },
  {
   "cell_type": "code",
   "execution_count": 43,
   "metadata": {},
   "outputs": [
    {
     "data": {
      "text/plain": [
       "['Jan',\n",
       " 'Fev',\n",
       " 'Mar',\n",
       " 'Abr',\n",
       " 'Mai',\n",
       " 'Jun',\n",
       " 'Jul',\n",
       " 'Ago',\n",
       " 'Set',\n",
       " 'Out',\n",
       " 'Nov',\n",
       " 'Dez']"
      ]
     },
     "execution_count": 43,
     "metadata": {},
     "output_type": "execute_result"
    }
   ],
   "source": [
    "meses = df_vendas.columns.tolist()\n",
    "meses"
   ]
  },
  {
   "cell_type": "code",
   "execution_count": 45,
   "metadata": {},
   "outputs": [
    {
     "data": {
      "application/vnd.microsoft.datawrangler.viewer.v0+json": {
       "columns": [
        {
         "name": "Mês",
         "rawType": "object",
         "type": "string"
        },
        {
         "name": "A",
         "rawType": "int64",
         "type": "integer"
        },
        {
         "name": "B",
         "rawType": "int64",
         "type": "integer"
        },
        {
         "name": "C",
         "rawType": "int64",
         "type": "integer"
        },
        {
         "name": "D",
         "rawType": "int64",
         "type": "integer"
        }
       ],
       "ref": "99ba78a1-f969-4c40-98d1-efb96d3378c7",
       "rows": [
        [
         "Jan",
         "100",
         "80",
         "150",
         "50"
        ],
        [
         "Fev",
         "120",
         "90",
         "170",
         "60"
        ],
        [
         "Mar",
         "150",
         "100",
         "200",
         "80"
        ],
        [
         "Abr",
         "180",
         "110",
         "230",
         "90"
        ],
        [
         "Mai",
         "220",
         "190",
         "350",
         "200"
        ],
        [
         "Jun",
         "230",
         "150",
         "280",
         "120"
        ],
        [
         "Jul",
         "250",
         "170",
         "300",
         "140"
        ],
        [
         "Ago",
         "260",
         "180",
         "310",
         "150"
        ],
        [
         "Set",
         "240",
         "160",
         "290",
         "130"
        ],
        [
         "Out",
         "220",
         "140",
         "270",
         "110"
        ],
        [
         "Nov",
         "400",
         "220",
         "350",
         "190"
        ],
        [
         "Dez",
         "300",
         "350",
         "400",
         "250"
        ]
       ],
       "shape": {
        "columns": 4,
        "rows": 12
       }
      },
      "text/html": [
       "<div>\n",
       "<style scoped>\n",
       "    .dataframe tbody tr th:only-of-type {\n",
       "        vertical-align: middle;\n",
       "    }\n",
       "\n",
       "    .dataframe tbody tr th {\n",
       "        vertical-align: top;\n",
       "    }\n",
       "\n",
       "    .dataframe thead th {\n",
       "        text-align: right;\n",
       "    }\n",
       "</style>\n",
       "<table border=\"1\" class=\"dataframe\">\n",
       "  <thead>\n",
       "    <tr style=\"text-align: right;\">\n",
       "      <th></th>\n",
       "      <th>A</th>\n",
       "      <th>B</th>\n",
       "      <th>C</th>\n",
       "      <th>D</th>\n",
       "    </tr>\n",
       "    <tr>\n",
       "      <th>Mês</th>\n",
       "      <th></th>\n",
       "      <th></th>\n",
       "      <th></th>\n",
       "      <th></th>\n",
       "    </tr>\n",
       "  </thead>\n",
       "  <tbody>\n",
       "    <tr>\n",
       "      <th>Jan</th>\n",
       "      <td>100</td>\n",
       "      <td>80</td>\n",
       "      <td>150</td>\n",
       "      <td>50</td>\n",
       "    </tr>\n",
       "    <tr>\n",
       "      <th>Fev</th>\n",
       "      <td>120</td>\n",
       "      <td>90</td>\n",
       "      <td>170</td>\n",
       "      <td>60</td>\n",
       "    </tr>\n",
       "    <tr>\n",
       "      <th>Mar</th>\n",
       "      <td>150</td>\n",
       "      <td>100</td>\n",
       "      <td>200</td>\n",
       "      <td>80</td>\n",
       "    </tr>\n",
       "    <tr>\n",
       "      <th>Abr</th>\n",
       "      <td>180</td>\n",
       "      <td>110</td>\n",
       "      <td>230</td>\n",
       "      <td>90</td>\n",
       "    </tr>\n",
       "    <tr>\n",
       "      <th>Mai</th>\n",
       "      <td>220</td>\n",
       "      <td>190</td>\n",
       "      <td>350</td>\n",
       "      <td>200</td>\n",
       "    </tr>\n",
       "    <tr>\n",
       "      <th>Jun</th>\n",
       "      <td>230</td>\n",
       "      <td>150</td>\n",
       "      <td>280</td>\n",
       "      <td>120</td>\n",
       "    </tr>\n",
       "    <tr>\n",
       "      <th>Jul</th>\n",
       "      <td>250</td>\n",
       "      <td>170</td>\n",
       "      <td>300</td>\n",
       "      <td>140</td>\n",
       "    </tr>\n",
       "    <tr>\n",
       "      <th>Ago</th>\n",
       "      <td>260</td>\n",
       "      <td>180</td>\n",
       "      <td>310</td>\n",
       "      <td>150</td>\n",
       "    </tr>\n",
       "    <tr>\n",
       "      <th>Set</th>\n",
       "      <td>240</td>\n",
       "      <td>160</td>\n",
       "      <td>290</td>\n",
       "      <td>130</td>\n",
       "    </tr>\n",
       "    <tr>\n",
       "      <th>Out</th>\n",
       "      <td>220</td>\n",
       "      <td>140</td>\n",
       "      <td>270</td>\n",
       "      <td>110</td>\n",
       "    </tr>\n",
       "    <tr>\n",
       "      <th>Nov</th>\n",
       "      <td>400</td>\n",
       "      <td>220</td>\n",
       "      <td>350</td>\n",
       "      <td>190</td>\n",
       "    </tr>\n",
       "    <tr>\n",
       "      <th>Dez</th>\n",
       "      <td>300</td>\n",
       "      <td>350</td>\n",
       "      <td>400</td>\n",
       "      <td>250</td>\n",
       "    </tr>\n",
       "  </tbody>\n",
       "</table>\n",
       "</div>"
      ],
      "text/plain": [
       "       A    B    C    D\n",
       "Mês                    \n",
       "Jan  100   80  150   50\n",
       "Fev  120   90  170   60\n",
       "Mar  150  100  200   80\n",
       "Abr  180  110  230   90\n",
       "Mai  220  190  350  200\n",
       "Jun  230  150  280  120\n",
       "Jul  250  170  300  140\n",
       "Ago  260  180  310  150\n",
       "Set  240  160  290  130\n",
       "Out  220  140  270  110\n",
       "Nov  400  220  350  190\n",
       "Dez  300  350  400  250"
      ]
     },
     "execution_count": 45,
     "metadata": {},
     "output_type": "execute_result"
    }
   ],
   "source": [
    "loja_A = df_vendas.loc['A',meses]\n",
    "loja_B = df_vendas.loc['B',meses]\n",
    "loja_C = df_vendas.loc['C',meses]\n",
    "loja_D = df_vendas.loc['D',meses]\n",
    "compara_lojas = pd.DataFrame({'A':loja_A, 'B':loja_B, 'C':loja_C, 'D':loja_D}, index=meses)\n",
    "compara_lojas.index.name = 'Mês'\n",
    "compara_lojas"
   ]
  },
  {
   "cell_type": "code",
   "execution_count": 50,
   "metadata": {},
   "outputs": [
    {
     "data": {
      "image/png": "[encoded data removed]",
      "text/plain": [
       "<Figure size 1000x600 with 4 Axes>"
      ]
     },
     "metadata": {},
     "output_type": "display_data"
    }
   ],
   "source": [
    "fig, axs = plt.subplots(2, 2, figsize=(10, 6))\n",
    "fig.subplots_adjust(hspace=0.5, wspace=0.3)\n",
    "fig.suptitle('Comparativo de venda mensal por loja')\n",
    "\n",
    "axs[0, 0].plot(df_vendas.loc['A', meses])\n",
    "axs[0, 0].set_title('Loja A')\n",
    "\n",
    "axs[0, 1].plot(df_vendas.loc['B', meses])\n",
    "axs[0, 1].set_title('Loja B')\n",
    "\n",
    "axs[1, 0].plot(df_vendas.loc['C', meses])\n",
    "axs[1, 0].set_title('Loja C')\n",
    "\n",
    "axs[1, 1].plot(df_vendas.loc['D', meses])\n",
    "axs[1, 1].set_title('Loja D')\n",
    "\n",
    "for ax in axs.flat:\n",
    "    ax.xaxis.set_major_locator(plt.MultipleLocator(5))\n",
    "\n",
    "for ax in axs.flat:\n",
    "    ax.set_xlabel('Mês')\n",
    "    ax.set_ylabel('Vendas por loja')\n",
    "    ax.grid()\n",
    "\n",
    "ymin = 0\n",
    "ymax = 500\n",
    "\n",
    "for ax in axs.ravel():\n",
    "    ax.set_ylim(ymin, ymax)\n",
    "\n",
    "plt.show()"
   ]
  },
  {
   "cell_type": "code",
   "execution_count": null,
   "metadata": {},
   "outputs": [],
   "source": []
  }
 ],
 "metadata": {
  "colab": {
   "authorship_tag": "ABX9TyNAcHMa4C+Q6J7M1CkYm1Tn",
   "provenance": [],
   "toc_visible": true
  },
  "kernelspec": {
   "display_name": "Python 3",
   "name": "python3"
  },
  "language_info": {
   "codemirror_mode": {
    "name": "ipython",
    "version": 3
   },
   "file_extension": ".py",
   "mimetype": "text/x-python",
   "name": "python",
   "nbconvert_exporter": "python",
   "pygments_lexer": "ipython3",
   "version": "3.13.3"
  }
 },
 "nbformat": 4,
 "nbformat_minor": 0
}
